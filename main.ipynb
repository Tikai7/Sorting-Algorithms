{
 "cells": [
  {
   "cell_type": "code",
   "execution_count": null,
   "metadata": {},
   "outputs": [],
   "source": [
    "import matplotlib.pyplot as plt\n",
    "import math"
   ]
  },
  {
   "cell_type": "markdown",
   "metadata": {},
   "source": [
    "TAILLES"
   ]
  },
  {
   "cell_type": "code",
   "execution_count": null,
   "metadata": {},
   "outputs": [],
   "source": [
    "TAILLES = [\n",
    "    1*math.pow(10, 5),\n",
    "    2*math.pow(10, 5),\n",
    "    4*math.pow(10, 5),\n",
    "    8*math.pow(10, 5),\n",
    "    1.024 * math.pow(10, 6),\n",
    "    2.048 * math.pow(10, 6),\n",
    "    3.2*math.pow(10, 6),\n",
    "]"
   ]
  },
  {
   "cell_type": "markdown",
   "metadata": {},
   "source": [
    "COMPLEXITE THEORIQUE"
   ]
  },
  {
   "cell_type": "code",
   "execution_count": null,
   "metadata": {},
   "outputs": [],
   "source": [
    "PC_SPEED = math.pow(10,9) \n",
    "\n",
    "COMPLEXITE_THEORIQUE_LENT = [(n*n)/PC_SPEED for n in TAILLES] # --------------- n²\n",
    "COMPLEXITE_THEORIQUE_BEST = [ n/PC_SPEED for n in TAILLES] # ------------------ n\n",
    "COMPLEXITE_THEORIQUE_RAPIDE = [(n*math.log2(n))/PC_SPEED for n in TAILLES] # ---n log(n)"
   ]
  },
  {
   "cell_type": "markdown",
   "metadata": {},
   "source": [
    "TRI INSERTION"
   ]
  },
  {
   "cell_type": "code",
   "execution_count": null,
   "metadata": {},
   "outputs": [],
   "source": [
    "TRI_INSERTION_RANDOM = [10.59, 37.14, 171.72, 724.29, 3167,10990,12445]\n",
    "TRI_INSERTION_SORTED = [0.00, 0.00, 0.001, 0.001, 0.03, 0.05, 0.008]\n",
    "TRI_INSERTION_REVERSE = [20.5, 74.55, 346.44,\n",
    "                         1418.81, 2427.63, 9491.35, 23473.84]"
   ]
  },
  {
   "cell_type": "markdown",
   "metadata": {},
   "source": [
    "TRI FUSION"
   ]
  },
  {
   "cell_type": "code",
   "execution_count": null,
   "metadata": {},
   "outputs": [],
   "source": [
    "TRI_FUSION_RANDOM = [0.33, 0.69, 1.40, 2.89, 3.69, 7.54, 11.97]\n",
    "TRI_FUSION_SORTED = [0.32, 0.69, 1.38, 2.81, 3.61, 7.33, 11.69]\n",
    "TRI_FUSION_REVERSE = [0.33, 0.67, 1.39, 2.83, 3.58, 7.32, 11.72]\n"
   ]
  },
  {
   "cell_type": "markdown",
   "metadata": {},
   "source": [
    "TRI TAS"
   ]
  },
  {
   "cell_type": "code",
   "execution_count": null,
   "metadata": {},
   "outputs": [],
   "source": [
    "TRI_TAS_RANDOM = [0.02, 0.04, 0.09, 0.18, 0.24, 0.54, 0.89]\n",
    "TRI_TAS_SORTED = [0.014, 0.031, 0.07, 0.14, 0.18, 0.36, 0.60]\n",
    "TRI_TAS_REVERSE = [0.014, 0.030, 0.063, 0.13, 0.19, 0.37, 0.62]"
   ]
  },
  {
   "cell_type": "markdown",
   "metadata": {},
   "source": [
    "TRI RAPIDE"
   ]
  },
  {
   "cell_type": "code",
   "execution_count": null,
   "metadata": {},
   "outputs": [],
   "source": [
    "TRI_RAPIDE_RANDOM = [0.01, 0.02, 0.05, 0.10, 0.13, 0.26, 0.42]\n",
    "TRI_RAPIDE_SORTED = [0.004, 0.007, 0.02, 0.03, 0.041, 0.09, 0.132]\n",
    "TRI_RAPIDE_REVERSE = [0.003, 0.007, 0.02, 0.03, 0.04, 0.08, 0.134]"
   ]
  },
  {
   "cell_type": "markdown",
   "metadata": {},
   "source": [
    "RESULTAT"
   ]
  },
  {
   "cell_type": "code",
   "execution_count": null,
   "metadata": {},
   "outputs": [],
   "source": [
    "plt.style.use(\"ggplot\")\n",
    "plt.figure()\n",
    "\n",
    "plt.plot(TAILLES, COMPLEXITE_THEORIQUE_BEST, label=\"Complexité O(n)\")\n",
    "plt.plot(TAILLES, COMPLEXITE_THEORIQUE_RAPIDE, label=\"Complexité O(nlog(n))\")\n",
    "plt.plot(TAILLES, COMPLEXITE_THEORIQUE_LENT, label=\"Complexité O(n²)\")\n",
    "\n",
    "\n",
    "\n",
    "plt.title(\"Comparaison des méthodes de tri\")\n",
    "plt.xlabel(\"Temps\")\n",
    "plt.ylabel(\"Tailles données\")\n",
    "plt.legend(loc=\"lower left\")\n",
    "plt.savefig(\"COMPARAISON_TRI.png\")\n",
    "plt.show()"
   ]
  }
 ],
 "metadata": {
  "kernelspec": {
   "display_name": "Python 3.8.4rc1 64-bit",
   "language": "python",
   "name": "python3"
  },
  "language_info": {
   "codemirror_mode": {
    "name": "ipython",
    "version": 3
   },
   "file_extension": ".py",
   "mimetype": "text/x-python",
   "name": "python",
   "nbconvert_exporter": "python",
   "pygments_lexer": "ipython3",
   "version": "3.8.4rc1"
  },
  "orig_nbformat": 4,
  "vscode": {
   "interpreter": {
    "hash": "e33dda8a4d12c9c36a233218a905238da2bb40652a11ab3365bb0fe0ea2bff9b"
   }
  }
 },
 "nbformat": 4,
 "nbformat_minor": 2
}
